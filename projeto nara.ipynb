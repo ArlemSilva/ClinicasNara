{
 "cells": [
  {
   "cell_type": "code",
   "execution_count": 1,
   "metadata": {},
   "outputs": [],
   "source": [
    "import pandas as pd \n",
    "import numpy as np \n",
    "import matplotlib.pyplot as plt"
   ]
  },
  {
   "cell_type": "code",
   "execution_count": 2,
   "metadata": {},
   "outputs": [],
   "source": [
    "from datetime import datetime"
   ]
  },
  {
   "cell_type": "code",
   "execution_count": 3,
   "metadata": {},
   "outputs": [],
   "source": [
    "df_consultas = pd.read_csv('consultas.csv', sep = ',')\n",
    "df_avaliacoes = pd.read_csv('avaliacoes.csv', sep = ',')\n",
    "df_clinicas = pd.read_csv('clinicas.csv', sep = ',')\n",
    "df_medicos = pd.read_csv('medicos.csv', sep = ',')\n",
    "df_pacientes = pd.read_csv('pacientes.csv', sep = ',')"
   ]
  },
  {
   "cell_type": "code",
   "execution_count": 4,
   "metadata": {},
   "outputs": [
    {
     "data": {
      "text/html": [
       "<div>\n",
       "<style scoped>\n",
       "    .dataframe tbody tr th:only-of-type {\n",
       "        vertical-align: middle;\n",
       "    }\n",
       "\n",
       "    .dataframe tbody tr th {\n",
       "        vertical-align: top;\n",
       "    }\n",
       "\n",
       "    .dataframe thead th {\n",
       "        text-align: right;\n",
       "    }\n",
       "</style>\n",
       "<table border=\"1\" class=\"dataframe\">\n",
       "  <thead>\n",
       "    <tr style=\"text-align: right;\">\n",
       "      <th></th>\n",
       "      <th>id_consulta</th>\n",
       "      <th>id_paciente</th>\n",
       "      <th>id_medico</th>\n",
       "      <th>id_clinica</th>\n",
       "      <th>especialidade</th>\n",
       "      <th>data_hora_agendada</th>\n",
       "      <th>data_hora_inicio</th>\n",
       "      <th>status</th>\n",
       "    </tr>\n",
       "  </thead>\n",
       "  <tbody>\n",
       "    <tr>\n",
       "      <th>0</th>\n",
       "      <td>1</td>\n",
       "      <td>82</td>\n",
       "      <td>15</td>\n",
       "      <td>4</td>\n",
       "      <td>Cardiologia</td>\n",
       "      <td>2023-09-27 23:46</td>\n",
       "      <td>2023-09-28 00:16</td>\n",
       "      <td>Realizada</td>\n",
       "    </tr>\n",
       "    <tr>\n",
       "      <th>1</th>\n",
       "      <td>2</td>\n",
       "      <td>18</td>\n",
       "      <td>95</td>\n",
       "      <td>14</td>\n",
       "      <td>Cardiologia</td>\n",
       "      <td>2023-09-04 09:05</td>\n",
       "      <td>2023-09-04 13:05</td>\n",
       "      <td>Realizada</td>\n",
       "    </tr>\n",
       "    <tr>\n",
       "      <th>2</th>\n",
       "      <td>3</td>\n",
       "      <td>55</td>\n",
       "      <td>5</td>\n",
       "      <td>4</td>\n",
       "      <td>Pediatria</td>\n",
       "      <td>2023-02-04 02:43</td>\n",
       "      <td>2023-02-04 02:58</td>\n",
       "      <td>Realizada</td>\n",
       "    </tr>\n",
       "    <tr>\n",
       "      <th>3</th>\n",
       "      <td>4</td>\n",
       "      <td>78</td>\n",
       "      <td>4</td>\n",
       "      <td>72</td>\n",
       "      <td>Ortopedia</td>\n",
       "      <td>2023-03-14 09:28</td>\n",
       "      <td>2023-03-14 13:28</td>\n",
       "      <td>Realizada</td>\n",
       "    </tr>\n",
       "    <tr>\n",
       "      <th>4</th>\n",
       "      <td>5</td>\n",
       "      <td>58</td>\n",
       "      <td>76</td>\n",
       "      <td>36</td>\n",
       "      <td>Pediatria</td>\n",
       "      <td>2023-10-22 16:54</td>\n",
       "      <td>2023-10-22 16:54</td>\n",
       "      <td>Cancelada</td>\n",
       "    </tr>\n",
       "  </tbody>\n",
       "</table>\n",
       "</div>"
      ],
      "text/plain": [
       "   id_consulta  id_paciente  id_medico  id_clinica especialidade  \\\n",
       "0            1           82         15           4   Cardiologia   \n",
       "1            2           18         95          14   Cardiologia   \n",
       "2            3           55          5           4     Pediatria   \n",
       "3            4           78          4          72     Ortopedia   \n",
       "4            5           58         76          36     Pediatria   \n",
       "\n",
       "  data_hora_agendada  data_hora_inicio     status  \n",
       "0   2023-09-27 23:46  2023-09-28 00:16  Realizada  \n",
       "1   2023-09-04 09:05  2023-09-04 13:05  Realizada  \n",
       "2   2023-02-04 02:43  2023-02-04 02:58  Realizada  \n",
       "3   2023-03-14 09:28  2023-03-14 13:28  Realizada  \n",
       "4   2023-10-22 16:54  2023-10-22 16:54  Cancelada  "
      ]
     },
     "execution_count": 4,
     "metadata": {},
     "output_type": "execute_result"
    }
   ],
   "source": [
    "df_consultas.head()"
   ]
  },
  {
   "cell_type": "code",
   "execution_count": 5,
   "metadata": {},
   "outputs": [],
   "source": [
    "df_consultas['data_hora_agendada'] = pd.to_datetime(df_consultas['data_hora_agendada'])\n",
    "df_consultas['data_hora_inicio'] = pd.to_datetime(df_consultas['data_hora_inicio'])"
   ]
  },
  {
   "cell_type": "code",
   "execution_count": 6,
   "metadata": {},
   "outputs": [],
   "source": [
    "#cardiologia = df_consultas.loc(df_consultas['especialidade'] == 'Cardiologia')"
   ]
  },
  {
   "cell_type": "code",
   "execution_count": 7,
   "metadata": {},
   "outputs": [],
   "source": [
    "df_consultas['tempo_espera'] = (df_consultas['data_hora_inicio'] - df_consultas['data_hora_agendada']).dt.total_seconds() / 60 \n"
   ]
  },
  {
   "cell_type": "code",
   "execution_count": 8,
   "metadata": {},
   "outputs": [
    {
     "data": {
      "text/html": [
       "<div>\n",
       "<style scoped>\n",
       "    .dataframe tbody tr th:only-of-type {\n",
       "        vertical-align: middle;\n",
       "    }\n",
       "\n",
       "    .dataframe tbody tr th {\n",
       "        vertical-align: top;\n",
       "    }\n",
       "\n",
       "    .dataframe thead th {\n",
       "        text-align: right;\n",
       "    }\n",
       "</style>\n",
       "<table border=\"1\" class=\"dataframe\">\n",
       "  <thead>\n",
       "    <tr style=\"text-align: right;\">\n",
       "      <th></th>\n",
       "      <th>id_consulta</th>\n",
       "      <th>id_paciente</th>\n",
       "      <th>id_medico</th>\n",
       "      <th>id_clinica</th>\n",
       "      <th>especialidade</th>\n",
       "      <th>data_hora_agendada</th>\n",
       "      <th>data_hora_inicio</th>\n",
       "      <th>status</th>\n",
       "      <th>tempo_espera</th>\n",
       "    </tr>\n",
       "  </thead>\n",
       "  <tbody>\n",
       "    <tr>\n",
       "      <th>0</th>\n",
       "      <td>1</td>\n",
       "      <td>82</td>\n",
       "      <td>15</td>\n",
       "      <td>4</td>\n",
       "      <td>Cardiologia</td>\n",
       "      <td>2023-09-27 23:46:00</td>\n",
       "      <td>2023-09-28 00:16:00</td>\n",
       "      <td>Realizada</td>\n",
       "      <td>30.0</td>\n",
       "    </tr>\n",
       "    <tr>\n",
       "      <th>1</th>\n",
       "      <td>2</td>\n",
       "      <td>18</td>\n",
       "      <td>95</td>\n",
       "      <td>14</td>\n",
       "      <td>Cardiologia</td>\n",
       "      <td>2023-09-04 09:05:00</td>\n",
       "      <td>2023-09-04 13:05:00</td>\n",
       "      <td>Realizada</td>\n",
       "      <td>240.0</td>\n",
       "    </tr>\n",
       "    <tr>\n",
       "      <th>2</th>\n",
       "      <td>3</td>\n",
       "      <td>55</td>\n",
       "      <td>5</td>\n",
       "      <td>4</td>\n",
       "      <td>Pediatria</td>\n",
       "      <td>2023-02-04 02:43:00</td>\n",
       "      <td>2023-02-04 02:58:00</td>\n",
       "      <td>Realizada</td>\n",
       "      <td>15.0</td>\n",
       "    </tr>\n",
       "    <tr>\n",
       "      <th>3</th>\n",
       "      <td>4</td>\n",
       "      <td>78</td>\n",
       "      <td>4</td>\n",
       "      <td>72</td>\n",
       "      <td>Ortopedia</td>\n",
       "      <td>2023-03-14 09:28:00</td>\n",
       "      <td>2023-03-14 13:28:00</td>\n",
       "      <td>Realizada</td>\n",
       "      <td>240.0</td>\n",
       "    </tr>\n",
       "    <tr>\n",
       "      <th>4</th>\n",
       "      <td>5</td>\n",
       "      <td>58</td>\n",
       "      <td>76</td>\n",
       "      <td>36</td>\n",
       "      <td>Pediatria</td>\n",
       "      <td>2023-10-22 16:54:00</td>\n",
       "      <td>2023-10-22 16:54:00</td>\n",
       "      <td>Cancelada</td>\n",
       "      <td>0.0</td>\n",
       "    </tr>\n",
       "  </tbody>\n",
       "</table>\n",
       "</div>"
      ],
      "text/plain": [
       "   id_consulta  id_paciente  id_medico  id_clinica especialidade  \\\n",
       "0            1           82         15           4   Cardiologia   \n",
       "1            2           18         95          14   Cardiologia   \n",
       "2            3           55          5           4     Pediatria   \n",
       "3            4           78          4          72     Ortopedia   \n",
       "4            5           58         76          36     Pediatria   \n",
       "\n",
       "   data_hora_agendada    data_hora_inicio     status  tempo_espera  \n",
       "0 2023-09-27 23:46:00 2023-09-28 00:16:00  Realizada          30.0  \n",
       "1 2023-09-04 09:05:00 2023-09-04 13:05:00  Realizada         240.0  \n",
       "2 2023-02-04 02:43:00 2023-02-04 02:58:00  Realizada          15.0  \n",
       "3 2023-03-14 09:28:00 2023-03-14 13:28:00  Realizada         240.0  \n",
       "4 2023-10-22 16:54:00 2023-10-22 16:54:00  Cancelada           0.0  "
      ]
     },
     "execution_count": 8,
     "metadata": {},
     "output_type": "execute_result"
    }
   ],
   "source": [
    "df_consultas.head()"
   ]
  },
  {
   "cell_type": "code",
   "execution_count": 48,
   "metadata": {},
   "outputs": [],
   "source": [
    "def tendencia_central (a):\n",
    "        # Calculo das medidas de tendencias centrais            \n",
    "    media_consulta = np.mean(a)\n",
    "    mediana_consulta= np.median(a)\n",
    "    distancia_consulta= ((media_consulta - mediana_consulta)/mediana_consulta)*100\n",
    "    print(f\"Média: {media_consulta:.2f}\\nMediana: {mediana_consulta:.2f}\\nDistancia: {distancia_consulta:.2f}% \")\n",
    "    return\n",
    "\n",
    "def outliers (b):\n",
    "        # determinando os quartis\n",
    "    q1, q2, q3= np.percentile(b , [25, 50, 75])\n",
    "    iqr = q3 - q1\n",
    "    limite_superior = q3 + (1.5 * iqr)\n",
    "    limite_inferior = q1 - (1.5 * iqr)\n",
    "    outlier_lista = [x for x in b if x < limite_inferior or x > limite_superior]           \n",
    "    print(f\"Quartis\\nQ1: {q1:.2f}\\nQ2: {q2:.2f}\\nQ3: {q3:.2f}\\nValores de corte:\\nLimite superior: {limite_superior:.2f}\\nLimite inferior: {limite_inferior:.2f}\")\n",
    "    return outlier_lista, limite_inferior, limite_superior, q1, q3"
   ]
  },
  {
   "cell_type": "code",
   "execution_count": null,
   "metadata": {},
   "outputs": [],
   "source": [
    "### CLINICAS ###"
   ]
  },
  {
   "cell_type": "code",
   "execution_count": 107,
   "metadata": {},
   "outputs": [],
   "source": [
    "df_consultas_clinicas = pd.merge(df_consultas, df_clinicas, on='id_clinica', how='inner').reset_index()"
   ]
  },
  {
   "cell_type": "code",
   "execution_count": 108,
   "metadata": {},
   "outputs": [],
   "source": [
    "df_nara = pd.merge(df_consultas_clinicas, df_medicos, on='id_medico', how='inner').reset_index()"
   ]
  },
  {
   "cell_type": "code",
   "execution_count": 113,
   "metadata": {},
   "outputs": [],
   "source": [
    "df_nara_avaliacao = pd.merge(df_nara, df_avaliacoes, on='id_consulta', how='inner')"
   ]
  },
  {
   "cell_type": "code",
   "execution_count": 104,
   "metadata": {},
   "outputs": [
    {
     "data": {
      "text/html": [
       "<div>\n",
       "<style scoped>\n",
       "    .dataframe tbody tr th:only-of-type {\n",
       "        vertical-align: middle;\n",
       "    }\n",
       "\n",
       "    .dataframe tbody tr th {\n",
       "        vertical-align: top;\n",
       "    }\n",
       "\n",
       "    .dataframe thead th {\n",
       "        text-align: right;\n",
       "    }\n",
       "</style>\n",
       "<table border=\"1\" class=\"dataframe\">\n",
       "  <thead>\n",
       "    <tr style=\"text-align: right;\">\n",
       "      <th></th>\n",
       "      <th>nome</th>\n",
       "      <th>tempo_espera</th>\n",
       "    </tr>\n",
       "  </thead>\n",
       "  <tbody>\n",
       "    <tr>\n",
       "      <th>0</th>\n",
       "      <td>Clínica Horizonte</td>\n",
       "      <td>103.158585</td>\n",
       "    </tr>\n",
       "    <tr>\n",
       "      <th>1</th>\n",
       "      <td>Clínica Nova Vida</td>\n",
       "      <td>98.366446</td>\n",
       "    </tr>\n",
       "    <tr>\n",
       "      <th>2</th>\n",
       "      <td>Clínica São Lucas</td>\n",
       "      <td>97.756233</td>\n",
       "    </tr>\n",
       "    <tr>\n",
       "      <th>3</th>\n",
       "      <td>Clínica Vital</td>\n",
       "      <td>95.569343</td>\n",
       "    </tr>\n",
       "    <tr>\n",
       "      <th>4</th>\n",
       "      <td>Clínica Bem Estar</td>\n",
       "      <td>94.211409</td>\n",
       "    </tr>\n",
       "    <tr>\n",
       "      <th>5</th>\n",
       "      <td>Clínica Renova</td>\n",
       "      <td>94.027149</td>\n",
       "    </tr>\n",
       "    <tr>\n",
       "      <th>6</th>\n",
       "      <td>Bem Viver</td>\n",
       "      <td>93.152174</td>\n",
       "    </tr>\n",
       "    <tr>\n",
       "      <th>7</th>\n",
       "      <td>Saúde Total</td>\n",
       "      <td>92.085366</td>\n",
       "    </tr>\n",
       "    <tr>\n",
       "      <th>8</th>\n",
       "      <td>Clínica Esperança</td>\n",
       "      <td>91.952160</td>\n",
       "    </tr>\n",
       "    <tr>\n",
       "      <th>9</th>\n",
       "      <td>Vida Plena</td>\n",
       "      <td>89.847973</td>\n",
       "    </tr>\n",
       "  </tbody>\n",
       "</table>\n",
       "</div>"
      ],
      "text/plain": [
       "                nome  tempo_espera\n",
       "0  Clínica Horizonte    103.158585\n",
       "1  Clínica Nova Vida     98.366446\n",
       "2  Clínica São Lucas     97.756233\n",
       "3      Clínica Vital     95.569343\n",
       "4  Clínica Bem Estar     94.211409\n",
       "5     Clínica Renova     94.027149\n",
       "6          Bem Viver     93.152174\n",
       "7        Saúde Total     92.085366\n",
       "8  Clínica Esperança     91.952160\n",
       "9         Vida Plena     89.847973"
      ]
     },
     "execution_count": 104,
     "metadata": {},
     "output_type": "execute_result"
    }
   ],
   "source": [
    "df_consultas_clinicas.groupby('nome')['tempo_espera'].mean().sort_values(ascending=False).reset_index()"
   ]
  },
  {
   "cell_type": "code",
   "execution_count": 82,
   "metadata": {},
   "outputs": [
    {
     "name": "stdout",
     "output_type": "stream",
     "text": [
      "Média: 103.16\n",
      "Mediana: 60.00\n",
      "Distancia: 71.93% \n",
      "Quartis\n",
      "Q1: 10.00\n",
      "Q2: 60.00\n",
      "Q3: 180.00\n",
      "Valores de corte:\n",
      "Limite superior: 435.00\n",
      "Limite inferior: -245.00\n"
     ]
    }
   ],
   "source": [
    "# Clínica Horizonte\n",
    "clinica = df_consultas.loc[df_consultas_clinicas['nome'] == 'Clínica Horizonte']\n",
    "tendencia_central(clinica['tempo_espera'])\n",
    "outlier_lista, limite_inferior, limite_superior, q1, q3 = outliers (np.array(clinica['tempo_espera']))"
   ]
  },
  {
   "cell_type": "code",
   "execution_count": 84,
   "metadata": {},
   "outputs": [
    {
     "name": "stdout",
     "output_type": "stream",
     "text": [
      "Média: 98.37\n",
      "Mediana: 60.00\n",
      "Distancia: 63.94% \n",
      "Quartis\n",
      "Q1: 10.00\n",
      "Q2: 60.00\n",
      "Q3: 180.00\n",
      "Valores de corte:\n",
      "Limite superior: 435.00\n",
      "Limite inferior: -245.00\n"
     ]
    }
   ],
   "source": [
    "# Clínica Nova Vida \n",
    "clinica = df_consultas.loc[df_consultas_clinicas['nome'] == 'Clínica Nova Vida']\n",
    "tendencia_central(clinica['tempo_espera'])\n",
    "outlier_lista, limite_inferior, limite_superior, q1, q3 = outliers (np.array(clinica['tempo_espera']))"
   ]
  },
  {
   "cell_type": "code",
   "execution_count": 85,
   "metadata": {},
   "outputs": [
    {
     "name": "stdout",
     "output_type": "stream",
     "text": [
      "Média: 97.76\n",
      "Mediana: 30.00\n",
      "Distancia: 225.85% \n",
      "Quartis\n",
      "Q1: 10.00\n",
      "Q2: 30.00\n",
      "Q3: 180.00\n",
      "Valores de corte:\n",
      "Limite superior: 435.00\n",
      "Limite inferior: -245.00\n"
     ]
    }
   ],
   "source": [
    "# Clínica São Lucas \n",
    "clinica = df_consultas.loc[df_consultas_clinicas['nome'] == 'Clínica São Lucas']\n",
    "tendencia_central(clinica['tempo_espera'])\n",
    "outlier_lista, limite_inferior, limite_superior, q1, q3 = outliers (np.array(clinica['tempo_espera']))"
   ]
  },
  {
   "cell_type": "code",
   "execution_count": 86,
   "metadata": {},
   "outputs": [
    {
     "name": "stdout",
     "output_type": "stream",
     "text": [
      "Média: 95.57\n",
      "Mediana: 60.00\n",
      "Distancia: 59.28% \n",
      "Quartis\n",
      "Q1: 10.00\n",
      "Q2: 60.00\n",
      "Q3: 180.00\n",
      "Valores de corte:\n",
      "Limite superior: 435.00\n",
      "Limite inferior: -245.00\n"
     ]
    }
   ],
   "source": [
    "# Clínica Vital \n",
    "clinica = df_consultas.loc[df_consultas_clinicas['nome'] == 'Clínica Vital']\n",
    "tendencia_central(clinica['tempo_espera'])\n",
    "outlier_lista, limite_inferior, limite_superior, q1, q3 = outliers (np.array(clinica['tempo_espera']))"
   ]
  },
  {
   "cell_type": "code",
   "execution_count": 87,
   "metadata": {},
   "outputs": [
    {
     "name": "stdout",
     "output_type": "stream",
     "text": [
      "Média: 94.21\n",
      "Mediana: 30.00\n",
      "Distancia: 214.04% \n",
      "Quartis\n",
      "Q1: 10.00\n",
      "Q2: 30.00\n",
      "Q3: 180.00\n",
      "Valores de corte:\n",
      "Limite superior: 435.00\n",
      "Limite inferior: -245.00\n"
     ]
    }
   ],
   "source": [
    "# Clínica Bem Estar \n",
    "clinica = df_consultas.loc[df_consultas_clinicas['nome'] == 'Clínica Bem Estar']\n",
    "tendencia_central(clinica['tempo_espera'])\n",
    "outlier_lista, limite_inferior, limite_superior, q1, q3 = outliers (np.array(clinica['tempo_espera']))"
   ]
  },
  {
   "cell_type": "code",
   "execution_count": 88,
   "metadata": {},
   "outputs": [
    {
     "name": "stdout",
     "output_type": "stream",
     "text": [
      "Média: 93.15\n",
      "Mediana: 60.00\n",
      "Distancia: 55.25% \n",
      "Quartis\n",
      "Q1: 10.00\n",
      "Q2: 60.00\n",
      "Q3: 180.00\n",
      "Valores de corte:\n",
      "Limite superior: 435.00\n",
      "Limite inferior: -245.00\n"
     ]
    }
   ],
   "source": [
    "# Bem Viver \n",
    "clinica = df_consultas.loc[df_consultas_clinicas['nome'] == 'Bem Viver']\n",
    "tendencia_central(clinica['tempo_espera'])\n",
    "outlier_lista, limite_inferior, limite_superior, q1, q3 = outliers (np.array(clinica['tempo_espera']))"
   ]
  },
  {
   "cell_type": "code",
   "execution_count": 89,
   "metadata": {},
   "outputs": [
    {
     "name": "stdout",
     "output_type": "stream",
     "text": [
      "Média: 92.09\n",
      "Mediana: 30.00\n",
      "Distancia: 206.95% \n",
      "Quartis\n",
      "Q1: 10.00\n",
      "Q2: 30.00\n",
      "Q3: 180.00\n",
      "Valores de corte:\n",
      "Limite superior: 435.00\n",
      "Limite inferior: -245.00\n"
     ]
    }
   ],
   "source": [
    "# Saúde Total \n",
    "clinica = df_consultas.loc[df_consultas_clinicas['nome'] == 'Saúde Total']\n",
    "tendencia_central(clinica['tempo_espera'])\n",
    "outlier_lista, limite_inferior, limite_superior, q1, q3 = outliers (np.array(clinica['tempo_espera']))"
   ]
  },
  {
   "cell_type": "code",
   "execution_count": 90,
   "metadata": {},
   "outputs": [
    {
     "name": "stdout",
     "output_type": "stream",
     "text": [
      "Média: 91.95\n",
      "Mediana: 30.00\n",
      "Distancia: 206.51% \n",
      "Quartis\n",
      "Q1: 10.00\n",
      "Q2: 30.00\n",
      "Q3: 180.00\n",
      "Valores de corte:\n",
      "Limite superior: 435.00\n",
      "Limite inferior: -245.00\n"
     ]
    }
   ],
   "source": [
    "# Clínica Esperança \n",
    "clinica = df_consultas.loc[df_consultas_clinicas['nome'] == 'Clínica Esperança']\n",
    "tendencia_central(clinica['tempo_espera'])\n",
    "outlier_lista, limite_inferior, limite_superior, q1, q3 = outliers (np.array(clinica['tempo_espera']))"
   ]
  },
  {
   "cell_type": "code",
   "execution_count": 92,
   "metadata": {},
   "outputs": [
    {
     "name": "stdout",
     "output_type": "stream",
     "text": [
      "Média: 89.85\n",
      "Mediana: 30.00\n",
      "Distancia: 199.49% \n",
      "Quartis\n",
      "Q1: 10.00\n",
      "Q2: 30.00\n",
      "Q3: 180.00\n",
      "Valores de corte:\n",
      "Limite superior: 435.00\n",
      "Limite inferior: -245.00\n"
     ]
    }
   ],
   "source": [
    "# Vida Plena \n",
    "clinica = df_consultas.loc[df_consultas_clinicas['nome'] == 'Vida Plena']\n",
    "tendencia_central(clinica['tempo_espera'])\n",
    "outlier_lista, limite_inferior, limite_superior, q1, q3 = outliers (np.array(clinica['tempo_espera']))"
   ]
  },
  {
   "cell_type": "code",
   "execution_count": null,
   "metadata": {},
   "outputs": [],
   "source": [
    "### ESPECIALIDADES ###"
   ]
  },
  {
   "cell_type": "code",
   "execution_count": null,
   "metadata": {},
   "outputs": [
    {
     "name": "stdout",
     "output_type": "stream",
     "text": [
      "Média: 95.52\n",
      "Mediana: 30.00\n",
      "Distancia: 218.39% \n",
      "Quartis\n",
      "Q1: 10.00\n",
      "Q2: 30.00\n",
      "Q3: 180.00\n",
      "Valores de corte:\n",
      "Limite superior: 435.00\n",
      "Limite inferior: -245.00\n"
     ]
    },
    {
     "data": {
      "text/plain": [
       "[]"
      ]
     },
     "execution_count": 70,
     "metadata": {},
     "output_type": "execute_result"
    }
   ],
   "source": [
    "# todas as consultas\n",
    "tendencia_central(df_consultas['tempo_espera'])\n",
    "outlier_lista, limite_inferior, limite_superior, q1, q3 = outliers (np.array(df_consultas['tempo_espera']))"
   ]
  },
  {
   "cell_type": "code",
   "execution_count": 81,
   "metadata": {},
   "outputs": [
    {
     "data": {
      "text/plain": [
       "especialidade\n",
       "Cardiologia      96.148649\n",
       "Dermatologia     97.584830\n",
       "Ginecologia      95.841523\n",
       "Neurologia      100.522727\n",
       "Ortopedia        94.038634\n",
       "Pediatria        93.013699\n",
       "Name: tempo_espera, dtype: float64"
      ]
     },
     "execution_count": 81,
     "metadata": {},
     "output_type": "execute_result"
    }
   ],
   "source": [
    "df_consultas.groupby('especialidade')['tempo_espera'].mean()"
   ]
  },
  {
   "cell_type": "code",
   "execution_count": 50,
   "metadata": {},
   "outputs": [
    {
     "name": "stdout",
     "output_type": "stream",
     "text": [
      "Média: 96.15\n",
      "Mediana: 60.00\n",
      "Distancia: 60.25% \n",
      "Quartis\n",
      "Q1: 10.00\n",
      "Q2: 60.00\n",
      "Q3: 180.00\n",
      "Valores de corte:\n",
      "Limite superior: 435.00\n",
      "Limite inferior: -245.00\n"
     ]
    }
   ],
   "source": [
    "# CARDIOLOGIA\n",
    "cardiologia = df_consultas.loc[df_consultas['especialidade'] == 'Cardiologia']\n",
    "tendencia_central(cardiologia['tempo_espera'])\n",
    "outlier_lista, limite_inferior, limite_superior, q1, q3 = outliers (np.array(cardiologia['tempo_espera']))\n",
    "\n",
    "#cardiologia_outlier = cardiologia.loc[cardiologia['tempo_espera'] <= q1]\n",
    "#cardiologia_outlier.sort_values(by = ['tempo_espera'], ascending= False)\n"
   ]
  },
  {
   "cell_type": "code",
   "execution_count": 51,
   "metadata": {},
   "outputs": [
    {
     "name": "stdout",
     "output_type": "stream",
     "text": [
      "Média: 97.58\n",
      "Mediana: 60.00\n",
      "Distancia: 62.64% \n",
      "Quartis\n",
      "Q1: 10.00\n",
      "Q2: 60.00\n",
      "Q3: 180.00\n",
      "Valores de corte:\n",
      "Limite superior: 435.00\n",
      "Limite inferior: -245.00\n"
     ]
    }
   ],
   "source": [
    "# Dermatologia     \n",
    "dermatologia = df_consultas.loc[df_consultas['especialidade'] == 'Dermatologia']\n",
    "tendencia_central(dermatologia['tempo_espera'])\n",
    "outlier_lista, limite_inferior, limite_superior, q1, q3 = outliers (np.array(dermatologia['tempo_espera']))"
   ]
  },
  {
   "cell_type": "code",
   "execution_count": 52,
   "metadata": {},
   "outputs": [
    {
     "name": "stdout",
     "output_type": "stream",
     "text": [
      "Média: 95.84\n",
      "Mediana: 30.00\n",
      "Distancia: 219.47% \n",
      "Quartis\n",
      "Q1: 10.00\n",
      "Q2: 30.00\n",
      "Q3: 180.00\n",
      "Valores de corte:\n",
      "Limite superior: 435.00\n",
      "Limite inferior: -245.00\n"
     ]
    }
   ],
   "source": [
    "# Ginecologia     \n",
    "ginecologia = df_consultas.loc[df_consultas['especialidade'] == 'Ginecologia']\n",
    "tendencia_central(ginecologia['tempo_espera'])\n",
    "outlier_lista, limite_inferior, limite_superior, q1, q3 = outliers (np.array(ginecologia['tempo_espera']))"
   ]
  },
  {
   "cell_type": "code",
   "execution_count": 53,
   "metadata": {},
   "outputs": [
    {
     "name": "stdout",
     "output_type": "stream",
     "text": [
      "Média: 100.52\n",
      "Mediana: 60.00\n",
      "Distancia: 67.54% \n",
      "Quartis\n",
      "Q1: 10.00\n",
      "Q2: 60.00\n",
      "Q3: 180.00\n",
      "Valores de corte:\n",
      "Limite superior: 435.00\n",
      "Limite inferior: -245.00\n"
     ]
    }
   ],
   "source": [
    "# neurologia     \n",
    "neurologia = df_consultas.loc[df_consultas['especialidade'] == 'Neurologia']\n",
    "tendencia_central(neurologia['tempo_espera'])\n",
    "outlier_lista, limite_inferior, limite_superior, q1, q3 = outliers (np.array(neurologia['tempo_espera']))"
   ]
  },
  {
   "cell_type": "code",
   "execution_count": 54,
   "metadata": {},
   "outputs": [
    {
     "name": "stdout",
     "output_type": "stream",
     "text": [
      "Média: 94.04\n",
      "Mediana: 30.00\n",
      "Distancia: 213.46% \n",
      "Quartis\n",
      "Q1: 10.00\n",
      "Q2: 30.00\n",
      "Q3: 180.00\n",
      "Valores de corte:\n",
      "Limite superior: 435.00\n",
      "Limite inferior: -245.00\n"
     ]
    }
   ],
   "source": [
    "# ortopedia     \n",
    "ortopedia = df_consultas.loc[df_consultas['especialidade'] == 'Ortopedia']\n",
    "tendencia_central(ortopedia['tempo_espera'])\n",
    "outlier_lista, limite_inferior, limite_superior, q1, q3 = outliers (np.array(ortopedia['tempo_espera']))"
   ]
  },
  {
   "cell_type": "code",
   "execution_count": 55,
   "metadata": {},
   "outputs": [
    {
     "name": "stdout",
     "output_type": "stream",
     "text": [
      "Média: 93.01\n",
      "Mediana: 30.00\n",
      "Distancia: 210.05% \n",
      "Quartis\n",
      "Q1: 10.00\n",
      "Q2: 30.00\n",
      "Q3: 180.00\n",
      "Valores de corte:\n",
      "Limite superior: 435.00\n",
      "Limite inferior: -245.00\n"
     ]
    }
   ],
   "source": [
    "# pediatria     \n",
    "pediatria = df_consultas.loc[df_consultas['especialidade'] == 'Pediatria']\n",
    "tendencia_central(pediatria['tempo_espera'])\n",
    "outlier_lista, limite_inferior, limite_superior, q1, q3 = outliers (np.array(pediatria['tempo_espera']))"
   ]
  },
  {
   "cell_type": "code",
   "execution_count": null,
   "metadata": {},
   "outputs": [],
   "source": [
    "### MEDICOS ###"
   ]
  },
  {
   "cell_type": "code",
   "execution_count": 117,
   "metadata": {},
   "outputs": [
    {
     "data": {
      "text/html": [
       "<div>\n",
       "<style scoped>\n",
       "    .dataframe tbody tr th:only-of-type {\n",
       "        vertical-align: middle;\n",
       "    }\n",
       "\n",
       "    .dataframe tbody tr th {\n",
       "        vertical-align: top;\n",
       "    }\n",
       "\n",
       "    .dataframe thead th {\n",
       "        text-align: right;\n",
       "    }\n",
       "</style>\n",
       "<table border=\"1\" class=\"dataframe\">\n",
       "  <thead>\n",
       "    <tr style=\"text-align: right;\">\n",
       "      <th></th>\n",
       "      <th>nome_x</th>\n",
       "      <th>nome_y</th>\n",
       "      <th>nota_satisfacao</th>\n",
       "    </tr>\n",
       "  </thead>\n",
       "  <tbody>\n",
       "    <tr>\n",
       "      <th>0</th>\n",
       "      <td>Bem Viver</td>\n",
       "      <td>Dr(a). Camila Almeida</td>\n",
       "      <td>2.0</td>\n",
       "    </tr>\n",
       "    <tr>\n",
       "      <th>1</th>\n",
       "      <td>Bem Viver</td>\n",
       "      <td>Dr(a). Camila Lima</td>\n",
       "      <td>4.0</td>\n",
       "    </tr>\n",
       "    <tr>\n",
       "      <th>2</th>\n",
       "      <td>Bem Viver</td>\n",
       "      <td>Dr(a). Camila Rodrigues</td>\n",
       "      <td>4.0</td>\n",
       "    </tr>\n",
       "    <tr>\n",
       "      <th>3</th>\n",
       "      <td>Bem Viver</td>\n",
       "      <td>Dr(a). Camila Souza</td>\n",
       "      <td>4.0</td>\n",
       "    </tr>\n",
       "    <tr>\n",
       "      <th>4</th>\n",
       "      <td>Bem Viver</td>\n",
       "      <td>Dr(a). João Rodrigues</td>\n",
       "      <td>5.0</td>\n",
       "    </tr>\n",
       "    <tr>\n",
       "      <th>...</th>\n",
       "      <td>...</td>\n",
       "      <td>...</td>\n",
       "      <td>...</td>\n",
       "    </tr>\n",
       "    <tr>\n",
       "      <th>80</th>\n",
       "      <td>Saúde Total</td>\n",
       "      <td>Dr(a). Ricardo Lima</td>\n",
       "      <td>5.0</td>\n",
       "    </tr>\n",
       "    <tr>\n",
       "      <th>81</th>\n",
       "      <td>Saúde Total</td>\n",
       "      <td>Dr(a). Ricardo Souza</td>\n",
       "      <td>3.0</td>\n",
       "    </tr>\n",
       "    <tr>\n",
       "      <th>82</th>\n",
       "      <td>Vida Plena</td>\n",
       "      <td>Dr(a). Eduardo Lima</td>\n",
       "      <td>2.0</td>\n",
       "    </tr>\n",
       "    <tr>\n",
       "      <th>83</th>\n",
       "      <td>Vida Plena</td>\n",
       "      <td>Dr(a). Mariana Nascimento</td>\n",
       "      <td>3.0</td>\n",
       "    </tr>\n",
       "    <tr>\n",
       "      <th>84</th>\n",
       "      <td>Vida Plena</td>\n",
       "      <td>Dr(a). Patrícia Oliveira</td>\n",
       "      <td>5.0</td>\n",
       "    </tr>\n",
       "  </tbody>\n",
       "</table>\n",
       "<p>85 rows × 3 columns</p>\n",
       "</div>"
      ],
      "text/plain": [
       "         nome_x                     nome_y  nota_satisfacao\n",
       "0     Bem Viver      Dr(a). Camila Almeida              2.0\n",
       "1     Bem Viver         Dr(a). Camila Lima              4.0\n",
       "2     Bem Viver    Dr(a). Camila Rodrigues              4.0\n",
       "3     Bem Viver        Dr(a). Camila Souza              4.0\n",
       "4     Bem Viver      Dr(a). João Rodrigues              5.0\n",
       "..          ...                        ...              ...\n",
       "80  Saúde Total        Dr(a). Ricardo Lima              5.0\n",
       "81  Saúde Total       Dr(a). Ricardo Souza              3.0\n",
       "82   Vida Plena        Dr(a). Eduardo Lima              2.0\n",
       "83   Vida Plena  Dr(a). Mariana Nascimento              3.0\n",
       "84   Vida Plena   Dr(a). Patrícia Oliveira              5.0\n",
       "\n",
       "[85 rows x 3 columns]"
      ]
     },
     "execution_count": 117,
     "metadata": {},
     "output_type": "execute_result"
    }
   ],
   "source": [
    "df_nara_avaliacao.groupby(['nome_x', 'nome_y'])['nota_satisfacao'].mean().reset_index()"
   ]
  },
  {
   "cell_type": "code",
   "execution_count": null,
   "metadata": {},
   "outputs": [
    {
     "data": {
      "text/html": [
       "<div>\n",
       "<style scoped>\n",
       "    .dataframe tbody tr th:only-of-type {\n",
       "        vertical-align: middle;\n",
       "    }\n",
       "\n",
       "    .dataframe tbody tr th {\n",
       "        vertical-align: top;\n",
       "    }\n",
       "\n",
       "    .dataframe thead th {\n",
       "        text-align: right;\n",
       "    }\n",
       "</style>\n",
       "<table border=\"1\" class=\"dataframe\">\n",
       "  <thead>\n",
       "    <tr style=\"text-align: right;\">\n",
       "      <th></th>\n",
       "      <th>level_0</th>\n",
       "      <th>index</th>\n",
       "      <th>id_consulta</th>\n",
       "      <th>id_paciente</th>\n",
       "      <th>id_medico</th>\n",
       "      <th>id_clinica</th>\n",
       "      <th>especialidade_x</th>\n",
       "      <th>data_hora_agendada</th>\n",
       "      <th>data_hora_inicio</th>\n",
       "      <th>status</th>\n",
       "      <th>tempo_espera</th>\n",
       "      <th>nome_x</th>\n",
       "      <th>cidade</th>\n",
       "      <th>capacidade_diaria</th>\n",
       "      <th>nome_y</th>\n",
       "      <th>especialidade_y</th>\n",
       "      <th>tempo_medio_atendimento</th>\n",
       "      <th>nota_satisfacao</th>\n",
       "      <th>comentario</th>\n",
       "    </tr>\n",
       "  </thead>\n",
       "  <tbody>\n",
       "    <tr>\n",
       "      <th>0</th>\n",
       "      <td>8</td>\n",
       "      <td>8</td>\n",
       "      <td>9</td>\n",
       "      <td>69</td>\n",
       "      <td>16</td>\n",
       "      <td>49</td>\n",
       "      <td>Ortopedia</td>\n",
       "      <td>2023-01-29 16:33:00</td>\n",
       "      <td>2023-01-29 20:33:00</td>\n",
       "      <td>Realizada</td>\n",
       "      <td>240.0</td>\n",
       "      <td>Saúde Total</td>\n",
       "      <td>Manaus</td>\n",
       "      <td>20</td>\n",
       "      <td>Dr(a). Juliana Oliveira</td>\n",
       "      <td>Pediatria</td>\n",
       "      <td>19</td>\n",
       "      <td>4</td>\n",
       "      <td>Comentário 3</td>\n",
       "    </tr>\n",
       "    <tr>\n",
       "      <th>1</th>\n",
       "      <td>15</td>\n",
       "      <td>15</td>\n",
       "      <td>16</td>\n",
       "      <td>82</td>\n",
       "      <td>89</td>\n",
       "      <td>72</td>\n",
       "      <td>Ortopedia</td>\n",
       "      <td>2023-03-21 23:01:00</td>\n",
       "      <td>2023-03-22 00:01:00</td>\n",
       "      <td>Cancelada</td>\n",
       "      <td>60.0</td>\n",
       "      <td>Bem Viver</td>\n",
       "      <td>Brasília</td>\n",
       "      <td>74</td>\n",
       "      <td>Dr(a). Mariana Oliveira</td>\n",
       "      <td>Ginecologia</td>\n",
       "      <td>18</td>\n",
       "      <td>1</td>\n",
       "      <td>Comentário 83</td>\n",
       "    </tr>\n",
       "    <tr>\n",
       "      <th>2</th>\n",
       "      <td>33</td>\n",
       "      <td>33</td>\n",
       "      <td>34</td>\n",
       "      <td>11</td>\n",
       "      <td>94</td>\n",
       "      <td>63</td>\n",
       "      <td>Pediatria</td>\n",
       "      <td>2023-10-25 02:31:00</td>\n",
       "      <td>2023-10-25 02:36:00</td>\n",
       "      <td>Remarcada</td>\n",
       "      <td>5.0</td>\n",
       "      <td>Clínica Horizonte</td>\n",
       "      <td>Brasília</td>\n",
       "      <td>28</td>\n",
       "      <td>Dr(a). Ricardo Almeida</td>\n",
       "      <td>Oftalmologia</td>\n",
       "      <td>58</td>\n",
       "      <td>1</td>\n",
       "      <td>Comentário 2</td>\n",
       "    </tr>\n",
       "    <tr>\n",
       "      <th>3</th>\n",
       "      <td>79</td>\n",
       "      <td>79</td>\n",
       "      <td>80</td>\n",
       "      <td>90</td>\n",
       "      <td>14</td>\n",
       "      <td>49</td>\n",
       "      <td>Dermatologia</td>\n",
       "      <td>2023-11-14 13:06:00</td>\n",
       "      <td>2023-11-14 13:06:00</td>\n",
       "      <td>Cancelada</td>\n",
       "      <td>0.0</td>\n",
       "      <td>Saúde Total</td>\n",
       "      <td>Manaus</td>\n",
       "      <td>20</td>\n",
       "      <td>Dr(a). André Souza</td>\n",
       "      <td>Endocrinologia</td>\n",
       "      <td>17</td>\n",
       "      <td>1</td>\n",
       "      <td>Comentário 51</td>\n",
       "    </tr>\n",
       "    <tr>\n",
       "      <th>4</th>\n",
       "      <td>84</td>\n",
       "      <td>84</td>\n",
       "      <td>85</td>\n",
       "      <td>34</td>\n",
       "      <td>23</td>\n",
       "      <td>75</td>\n",
       "      <td>Ortopedia</td>\n",
       "      <td>2023-04-07 15:40:00</td>\n",
       "      <td>2023-04-07 15:40:00</td>\n",
       "      <td>Realizada</td>\n",
       "      <td>0.0</td>\n",
       "      <td>Clínica Vital</td>\n",
       "      <td>Curitiba</td>\n",
       "      <td>35</td>\n",
       "      <td>Dr(a). Patrícia Lima</td>\n",
       "      <td>Urologia</td>\n",
       "      <td>38</td>\n",
       "      <td>1</td>\n",
       "      <td>Comentário 97</td>\n",
       "    </tr>\n",
       "    <tr>\n",
       "      <th>...</th>\n",
       "      <td>...</td>\n",
       "      <td>...</td>\n",
       "      <td>...</td>\n",
       "      <td>...</td>\n",
       "      <td>...</td>\n",
       "      <td>...</td>\n",
       "      <td>...</td>\n",
       "      <td>...</td>\n",
       "      <td>...</td>\n",
       "      <td>...</td>\n",
       "      <td>...</td>\n",
       "      <td>...</td>\n",
       "      <td>...</td>\n",
       "      <td>...</td>\n",
       "      <td>...</td>\n",
       "      <td>...</td>\n",
       "      <td>...</td>\n",
       "      <td>...</td>\n",
       "      <td>...</td>\n",
       "    </tr>\n",
       "    <tr>\n",
       "      <th>95</th>\n",
       "      <td>4742</td>\n",
       "      <td>4742</td>\n",
       "      <td>4743</td>\n",
       "      <td>79</td>\n",
       "      <td>71</td>\n",
       "      <td>42</td>\n",
       "      <td>Neurologia</td>\n",
       "      <td>2023-02-09 14:03:00</td>\n",
       "      <td>2023-02-09 19:03:00</td>\n",
       "      <td>Realizada</td>\n",
       "      <td>300.0</td>\n",
       "      <td>Vida Plena</td>\n",
       "      <td>Rio de Janeiro</td>\n",
       "      <td>37</td>\n",
       "      <td>Dr(a). Patrícia Oliveira</td>\n",
       "      <td>Neurologia</td>\n",
       "      <td>43</td>\n",
       "      <td>5</td>\n",
       "      <td>Comentário 14</td>\n",
       "    </tr>\n",
       "    <tr>\n",
       "      <th>96</th>\n",
       "      <td>4873</td>\n",
       "      <td>4873</td>\n",
       "      <td>4874</td>\n",
       "      <td>52</td>\n",
       "      <td>88</td>\n",
       "      <td>93</td>\n",
       "      <td>Ortopedia</td>\n",
       "      <td>2023-06-11 05:05:00</td>\n",
       "      <td>2023-06-11 05:05:00</td>\n",
       "      <td>Realizada</td>\n",
       "      <td>0.0</td>\n",
       "      <td>Clínica Horizonte</td>\n",
       "      <td>Belo Horizonte</td>\n",
       "      <td>54</td>\n",
       "      <td>Dr(a). Mariana Nascimento</td>\n",
       "      <td>Cardiologia</td>\n",
       "      <td>60</td>\n",
       "      <td>5</td>\n",
       "      <td>Comentário 29</td>\n",
       "    </tr>\n",
       "    <tr>\n",
       "      <th>97</th>\n",
       "      <td>4879</td>\n",
       "      <td>4879</td>\n",
       "      <td>4880</td>\n",
       "      <td>99</td>\n",
       "      <td>27</td>\n",
       "      <td>99</td>\n",
       "      <td>Pediatria</td>\n",
       "      <td>2023-10-20 19:55:00</td>\n",
       "      <td>2023-10-20 20:10:00</td>\n",
       "      <td>Realizada</td>\n",
       "      <td>15.0</td>\n",
       "      <td>Bem Viver</td>\n",
       "      <td>Salvador</td>\n",
       "      <td>71</td>\n",
       "      <td>Dr(a). Juliana Oliveira</td>\n",
       "      <td>Urologia</td>\n",
       "      <td>56</td>\n",
       "      <td>2</td>\n",
       "      <td>Comentário 96</td>\n",
       "    </tr>\n",
       "    <tr>\n",
       "      <th>98</th>\n",
       "      <td>4915</td>\n",
       "      <td>4915</td>\n",
       "      <td>4916</td>\n",
       "      <td>85</td>\n",
       "      <td>19</td>\n",
       "      <td>39</td>\n",
       "      <td>Cardiologia</td>\n",
       "      <td>2023-03-01 02:15:00</td>\n",
       "      <td>2023-03-01 03:15:00</td>\n",
       "      <td>Realizada</td>\n",
       "      <td>60.0</td>\n",
       "      <td>Clínica São Lucas</td>\n",
       "      <td>Salvador</td>\n",
       "      <td>83</td>\n",
       "      <td>Dr(a). Eduardo Lima</td>\n",
       "      <td>Psiquiatria</td>\n",
       "      <td>55</td>\n",
       "      <td>2</td>\n",
       "      <td>Comentário 44</td>\n",
       "    </tr>\n",
       "    <tr>\n",
       "      <th>99</th>\n",
       "      <td>4992</td>\n",
       "      <td>4992</td>\n",
       "      <td>4993</td>\n",
       "      <td>89</td>\n",
       "      <td>96</td>\n",
       "      <td>3</td>\n",
       "      <td>Neurologia</td>\n",
       "      <td>2023-08-29 07:47:00</td>\n",
       "      <td>2023-08-29 10:47:00</td>\n",
       "      <td>Realizada</td>\n",
       "      <td>180.0</td>\n",
       "      <td>Clínica Vital</td>\n",
       "      <td>Curitiba</td>\n",
       "      <td>37</td>\n",
       "      <td>Dr(a). Camila Nascimento</td>\n",
       "      <td>Urologia</td>\n",
       "      <td>28</td>\n",
       "      <td>4</td>\n",
       "      <td>Comentário 36</td>\n",
       "    </tr>\n",
       "  </tbody>\n",
       "</table>\n",
       "<p>100 rows × 19 columns</p>\n",
       "</div>"
      ],
      "text/plain": [
       "    level_0  index  id_consulta  id_paciente  id_medico  id_clinica  \\\n",
       "0         8      8            9           69         16          49   \n",
       "1        15     15           16           82         89          72   \n",
       "2        33     33           34           11         94          63   \n",
       "3        79     79           80           90         14          49   \n",
       "4        84     84           85           34         23          75   \n",
       "..      ...    ...          ...          ...        ...         ...   \n",
       "95     4742   4742         4743           79         71          42   \n",
       "96     4873   4873         4874           52         88          93   \n",
       "97     4879   4879         4880           99         27          99   \n",
       "98     4915   4915         4916           85         19          39   \n",
       "99     4992   4992         4993           89         96           3   \n",
       "\n",
       "   especialidade_x  data_hora_agendada    data_hora_inicio     status  \\\n",
       "0        Ortopedia 2023-01-29 16:33:00 2023-01-29 20:33:00  Realizada   \n",
       "1        Ortopedia 2023-03-21 23:01:00 2023-03-22 00:01:00  Cancelada   \n",
       "2        Pediatria 2023-10-25 02:31:00 2023-10-25 02:36:00  Remarcada   \n",
       "3     Dermatologia 2023-11-14 13:06:00 2023-11-14 13:06:00  Cancelada   \n",
       "4        Ortopedia 2023-04-07 15:40:00 2023-04-07 15:40:00  Realizada   \n",
       "..             ...                 ...                 ...        ...   \n",
       "95      Neurologia 2023-02-09 14:03:00 2023-02-09 19:03:00  Realizada   \n",
       "96       Ortopedia 2023-06-11 05:05:00 2023-06-11 05:05:00  Realizada   \n",
       "97       Pediatria 2023-10-20 19:55:00 2023-10-20 20:10:00  Realizada   \n",
       "98     Cardiologia 2023-03-01 02:15:00 2023-03-01 03:15:00  Realizada   \n",
       "99      Neurologia 2023-08-29 07:47:00 2023-08-29 10:47:00  Realizada   \n",
       "\n",
       "    tempo_espera             nome_x          cidade  capacidade_diaria  \\\n",
       "0          240.0        Saúde Total          Manaus                 20   \n",
       "1           60.0          Bem Viver        Brasília                 74   \n",
       "2            5.0  Clínica Horizonte        Brasília                 28   \n",
       "3            0.0        Saúde Total          Manaus                 20   \n",
       "4            0.0      Clínica Vital        Curitiba                 35   \n",
       "..           ...                ...             ...                ...   \n",
       "95         300.0         Vida Plena  Rio de Janeiro                 37   \n",
       "96           0.0  Clínica Horizonte  Belo Horizonte                 54   \n",
       "97          15.0          Bem Viver        Salvador                 71   \n",
       "98          60.0  Clínica São Lucas        Salvador                 83   \n",
       "99         180.0      Clínica Vital        Curitiba                 37   \n",
       "\n",
       "                       nome_y especialidade_y  tempo_medio_atendimento  \\\n",
       "0     Dr(a). Juliana Oliveira       Pediatria                       19   \n",
       "1     Dr(a). Mariana Oliveira     Ginecologia                       18   \n",
       "2      Dr(a). Ricardo Almeida    Oftalmologia                       58   \n",
       "3          Dr(a). André Souza  Endocrinologia                       17   \n",
       "4        Dr(a). Patrícia Lima        Urologia                       38   \n",
       "..                        ...             ...                      ...   \n",
       "95   Dr(a). Patrícia Oliveira      Neurologia                       43   \n",
       "96  Dr(a). Mariana Nascimento     Cardiologia                       60   \n",
       "97    Dr(a). Juliana Oliveira        Urologia                       56   \n",
       "98        Dr(a). Eduardo Lima     Psiquiatria                       55   \n",
       "99   Dr(a). Camila Nascimento        Urologia                       28   \n",
       "\n",
       "    nota_satisfacao     comentario  \n",
       "0                 4   Comentário 3  \n",
       "1                 1  Comentário 83  \n",
       "2                 1   Comentário 2  \n",
       "3                 1  Comentário 51  \n",
       "4                 1  Comentário 97  \n",
       "..              ...            ...  \n",
       "95                5  Comentário 14  \n",
       "96                5  Comentário 29  \n",
       "97                2  Comentário 96  \n",
       "98                2  Comentário 44  \n",
       "99                4  Comentário 36  \n",
       "\n",
       "[100 rows x 19 columns]"
      ]
     },
     "execution_count": 114,
     "metadata": {},
     "output_type": "execute_result"
    }
   ],
   "source": [
    "df_nara_avaliacao"
   ]
  },
  {
   "cell_type": "code",
   "execution_count": null,
   "metadata": {},
   "outputs": [],
   "source": [
    "# correlação entre avaliação e tempo de espera\n",
    "\n",
    "plt.scatter(df_nara_avaliacao['nota_satisfacao'], df_nara_avaliacao['tempo_espera'])\n",
    "plt.title('\\nCorrelação entre \"Tempo de Espera\" e \"Avaliação\"\\n')\n",
    "plt.xlabel('\\nNota de Avaliação\\n')\n",
    "plt.ylabel('\\nTempo de espera\\n')\n",
    "plt.show"
   ]
  }
 ],
 "metadata": {
  "kernelspec": {
   "display_name": "Python 3",
   "language": "python",
   "name": "python3"
  },
  "language_info": {
   "codemirror_mode": {
    "name": "ipython",
    "version": 3
   },
   "file_extension": ".py",
   "mimetype": "text/x-python",
   "name": "python",
   "nbconvert_exporter": "python",
   "pygments_lexer": "ipython3",
   "version": "3.11.9"
  },
  "orig_nbformat": 4
 },
 "nbformat": 4,
 "nbformat_minor": 2
}
